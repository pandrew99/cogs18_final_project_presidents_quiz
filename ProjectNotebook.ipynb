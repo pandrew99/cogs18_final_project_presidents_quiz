{
 "cells": [
  {
   "cell_type": "markdown",
   "metadata": {},
   "source": [
    "# Project Description"
   ]
  },
  {
   "cell_type": "markdown",
   "metadata": {},
   "source": [
    "All About The Presidents Quiz Game\n",
    "\n",
    "Hi, and welcome to my project! In the beginning, it asks you\n",
    "for your name and location and welcomes you to the game, and \n",
    "then recommends a difficulty level based on your knowledge.\n",
    "Then, you get to pick a level and answer 3 questions about the\n",
    "presidents! Afterwards, you can learn more about the presidents\n",
    "by using Wikipedia's API to provide you a summary of a president\n",
    "and a link to their picture. Have fun!"
   ]
  },
  {
   "cell_type": "markdown",
   "metadata": {},
   "source": [
    "## Project Code\n",
    "\n",
    "If it makes sense for your project, you can have code and outputs here in the notebook as well."
   ]
  },
  {
   "cell_type": "code",
   "execution_count": 1,
   "metadata": {},
   "outputs": [
    {
     "name": "stdout",
     "output_type": "stream",
     "text": [
      "\u001b[1m============================= test session starts ==============================\u001b[0m\n",
      "platform linux -- Python 3.8.6, pytest-6.2.1, py-1.10.0, pluggy-0.13.1\n",
      "rootdir: /home/ajpan/Project_Sp21\n",
      "collected 6 items                                                              \u001b[0m\n",
      "\n",
      "my_module/test_functions.py \u001b[32m.\u001b[0m\u001b[32m.\u001b[0m\u001b[32m.\u001b[0m\u001b[32m.\u001b[0m\u001b[32m.\u001b[0m\u001b[32m.\u001b[0m\u001b[32m                                       [100%]\u001b[0m\n",
      "\n",
      "\u001b[32m============================== \u001b[32m\u001b[1m6 passed\u001b[0m\u001b[32m in 0.20s\u001b[0m\u001b[32m ===============================\u001b[0m\n"
     ]
    }
   ],
   "source": [
    "from my_module.functions import start, easy, medium, hard, star, learn_more\n",
    "# !pytest"
   ]
  },
  {
   "cell_type": "code",
   "execution_count": 2,
   "metadata": {},
   "outputs": [
    {
     "name": "stdout",
     "output_type": "stream",
     "text": [
      "What's your name? andrew\n",
      "Where are you joining us from? us\n",
      "\n",
      "Hello andrew, and welcome to the All About The Presidents!\n",
      "I see that you're joining us from us, great to have you here!\n",
      "In this quiz game you'll be answering trivia questions\n",
      "about the U.S. Presidents.\n",
      "\n",
      "On a scale of 1-10, how much do you think you know about the U.S. Presidents? 7\n",
      "I see that you know a lot about the presidents\n",
      "so I recommend you try the hard difficulty -- but feel free to\n",
      "choose any difficulty that you want!\n",
      "\n",
      "What difficulty do you want(easy, medium, or hard)?medium\n",
      "You selected medium, great choice! Here's your first question:\n",
      "(make sure to type first and last name, all lowercase)\n",
      "\n",
      "Who is the oldest president ever? jimmy carter\n",
      "You're right!\n",
      "Your score is 1\n",
      "\n",
      "Which President's campaign slogan was 'I like Ike'? dwight d. eisenhower\n",
      "You're right!\n",
      "Your score is 2\n",
      "\n",
      "Who was the first President to be impeached? lbah\n",
      "Sorry, the answer was Andrew Johnson.\n",
      "\n",
      "Congrats! Your final score is 2\n",
      "🇺🇸🇺🇸\n",
      "\n",
      "Would you like to learn more about the Presidents? (respond yes or no) yes\n",
      "Great! Write a president you would like to learn more about: donald trump\n",
      "Here's a picture of donald trump:\n",
      "https://upload.wikimedia.org/wikipedia/commons/5/56/Donald_Trump_official_portrait.jpg\n",
      "Donald John Trump (born June 14, 1946) is an American media personality and businessman who served as the 45th president of the United States from 2017 to 2021.\n",
      "Born and raised in Queens, New York City, Trump attended Fordham University and the University of Pennsylvania, graduating with a bachelor's degree in 1968. He became the president of his father Fred Trump's real estate business in 1971 and renamed it The Trump Organization. Trump expanded the company's operations to building and renovating skyscrapers, hotels, casinos, and golf courses. He later started various side ventures, mostly by licensing his name. Trump and his businesses have been involved in more than 4,000 state and federal legal actions, including six bankruptcies. He owned the Miss Universe brand of beauty pageants from 1996 to 2015. From 2003 to 2015 he co-produced and hosted the reality television series The Apprentice.\n",
      "Trump's political positions have been described as populist, protectionist, isolationist, and nationalist. He entered the 2016 presidential race as a Republican and was elected in an upset victory over Democratic nominee Hillary Clinton while losing the popular vote. He was the first U.S. president without prior military or government service. His election and policies sparked numerous protests. Trump made many false and misleading statements during his campaigns and presidency, to a degree unprecedented in American politics. Many of his comments and actions have been characterized as racially charged or racist.\n",
      "During his presidency, Trump ordered a travel ban on citizens from several Muslim-majority countries, citing security concerns; after legal challenges, the Supreme Court upheld the policy's third revision. He enacted the Tax Cuts and Jobs Act of 2017 which cut taxes for individuals and businesses and rescinded the individual health insurance mandate penalty of the Affordable Care Act. He appointed Neil Gorsuch, Brett Kavanaugh and Amy Coney Barrett to the Supreme Court as well as more than 200 federal judges. In foreign policy, Trump pursued an America First agenda: he renegotiated the North American Free Trade Agreement as the U.S.–Mexico–Canada Agreement and withdrew the U.S. from the Trans-Pacific Partnership trade negotiations, the Paris Agreement on climate change and the Iran nuclear deal. He imposed import tariffs that triggered a trade war with China and met three times with North Korean leader Kim Jong-un, but negotiations on denuclearization eventually broke down. Trump reacted slowly to the COVID-19 pandemic, ignored or contradicted many recommendations from health officials in his messaging, and promoted misinformation about unproven treatments and the availability of testing.\n",
      "Russia interfered in the 2016 election to help Trump's election chances, but the special counsel investigation of that interference led by Robert Mueller did not find sufficient evidence to establish criminal conspiracy or coordination of the Trump campaign with Russia. Mueller also investigated Trump for obstruction of justice and neither indicted nor exonerated him. After Trump solicited Ukraine to investigate his political rival Joe Biden, the House of Representatives impeached him on December 18, 2019 for abuse of power and obstruction of Congress. The Senate acquitted him of both charges on February 5, 2020. \n",
      "Trump lost the 2020 presidential election to Biden, but refused to concede defeat. He attempted to overturn the results by making false claims of electoral fraud, pressuring government officials, mounting scores of unsuccessful legal challenges and obstructing the presidential transition. On January 6, 2021, Trump urged his supporters to march to the Capitol, which hundreds stormed, interrupting the electoral vote count. The House impeached Trump for incitement of insurrection on January 13, making him the only federal officeholder in American history to be impeached twice. The Senate acquitted Trump for the second time on February 13.\n",
      "\n",
      "Would you like to learn more about the Presidents? (respond yes or no) no\n",
      "No worries, hope you enjoyed the game! Have a great day :) \n"
     ]
    }
   ],
   "source": [
    "start()\n",
    "# learn_more()"
   ]
  },
  {
   "cell_type": "markdown",
   "metadata": {},
   "source": [
    "#### Extra Credit (*optional*)\n",
    "1. I took an intro to python class before, but that was a couple years ago and I haven't programmed since then so I was a little rusty. However, as I went through the quarter I do remember doing some similar things so that definitely helped me out a little. \n",
    "2. I believe my project went above and beyond because I have 6 functions over the required 3 functions and I utilized the Wikipedia API and the input function that was not mentioned during class. This project was a lot of fun to make and I learned a lot this quarter, thanks y'all!"
   ]
  }
 ],
 "metadata": {
  "kernelspec": {
   "display_name": "Python 3",
   "language": "python",
   "name": "python3"
  },
  "language_info": {
   "codemirror_mode": {
    "name": "ipython",
    "version": 3
   },
   "file_extension": ".py",
   "mimetype": "text/x-python",
   "name": "python",
   "nbconvert_exporter": "python",
   "pygments_lexer": "ipython3",
   "version": "3.8.6"
  }
 },
 "nbformat": 4,
 "nbformat_minor": 2
}
